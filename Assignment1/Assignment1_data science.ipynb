{
 "cells": [
  {
   "cell_type": "code",
   "execution_count": 1,
   "id": "42399468",
   "metadata": {},
   "outputs": [],
   "source": [
    "#JAWAN PAKISTAN\n",
    "#DATASCIENCE COURSE\n",
    "#ASSIGNMENT:01\n",
    "#MEHREEN ABBAS\n",
    "\n"
   ]
  },
  {
   "cell_type": "code",
   "execution_count": 3,
   "id": "09ee2056",
   "metadata": {},
   "outputs": [
    {
     "name": "stdout",
     "output_type": "stream",
     "text": [
      "\n",
      "    Twinkle,twinker, little star,\n",
      "            How I wonder what you are!\n",
      "                    Up above the world so high,\n",
      "                    Like a diamond in the sky.\n",
      "    Twinkle,twinker, little star,\n",
      "            How I wonder what you are!\n",
      "    \n"
     ]
    }
   ],
   "source": [
    "print('''\n",
    "    Twinkle,twinker, little star,\n",
    "            How I wonder what you are!\n",
    "                    Up above the world so high,\n",
    "                    Like a diamond in the sky.\n",
    "    Twinkle,twinker, little star,\n",
    "            How I wonder what you are!\n",
    "    ''')"
   ]
  },
  {
   "cell_type": "code",
   "execution_count": 4,
   "id": "ea3c2b85",
   "metadata": {},
   "outputs": [
    {
     "name": "stdout",
     "output_type": "stream",
     "text": [
      "Python version\n",
      "3.9.7 (default, Sep 16 2021, 16:59:28) [MSC v.1916 64 bit (AMD64)]\n",
      "Version info.\n",
      "sys.version_info(major=3, minor=9, micro=7, releaselevel='final', serial=0)\n"
     ]
    }
   ],
   "source": [
    "import sys\n",
    "print(\"Python version\")\n",
    "print (sys.version)\n",
    "print(\"Version info.\")\n",
    "print (sys.version_info)"
   ]
  },
  {
   "cell_type": "code",
   "execution_count": 5,
   "id": "aac1ee44",
   "metadata": {},
   "outputs": [
    {
     "name": "stdout",
     "output_type": "stream",
     "text": [
      "date and time = 01/01/2022 05:53:04\n"
     ]
    }
   ],
   "source": [
    "from datetime import datetime\n",
    "# datetime object containing current date and time\n",
    "now = datetime.now()\n",
    "# dd/mm/YY H:M:S\n",
    "dt_string = now.strftime(\"%d/%m/%Y %H:%M:%S\")\n",
    "print(\"date and time =\", dt_string)"
   ]
  },
  {
   "cell_type": "code",
   "execution_count": 6,
   "id": "22202c23",
   "metadata": {},
   "outputs": [
    {
     "name": "stdout",
     "output_type": "stream",
     "text": [
      "Input the radius of the circle : 4\n",
      "The area of the circle with radius 4.0 is: 50.26548245743669\n"
     ]
    }
   ],
   "source": [
    "from math import pi\n",
    "r = float(input (\"Input the radius of the circle : \"))\n",
    "print (\"The area of the circle with radius \" + str(r) + \" is: \" + str(pi * r**2))"
   ]
  },
  {
   "cell_type": "code",
   "execution_count": 7,
   "id": "ca51ed1c",
   "metadata": {},
   "outputs": [
    {
     "name": "stdout",
     "output_type": "stream",
     "text": [
      "Please enter first name:Mehreen\n",
      "Please enter last name:Abbas\n",
      "your good name is: Abbas Mehreen\n"
     ]
    }
   ],
   "source": [
    "first_name = input('Please enter first name:')    \n",
    "last_name = input('Please enter last name:')    \n",
    "print(\"your good name is:\",last_name,first_name)"
   ]
  },
  {
   "cell_type": "code",
   "execution_count": 14,
   "id": "7f61fbab",
   "metadata": {},
   "outputs": [
    {
     "name": "stdout",
     "output_type": "stream",
     "text": [
      "input first value:6\n",
      "input second value:5\n",
      "Addition is:  11\n"
     ]
    }
   ],
   "source": [
    "x= int(input(\"input first value:\"))\n",
    "y= int(input(\"input second value:\"))\n",
    "print(\"Addition is: \", x+y)\n",
    "\n"
   ]
  },
  {
   "cell_type": "code",
   "execution_count": null,
   "id": "d686004b",
   "metadata": {},
   "outputs": [],
   "source": []
  }
 ],
 "metadata": {
  "kernelspec": {
   "display_name": "Python 3 (ipykernel)",
   "language": "python",
   "name": "python3"
  },
  "language_info": {
   "codemirror_mode": {
    "name": "ipython",
    "version": 3
   },
   "file_extension": ".py",
   "mimetype": "text/x-python",
   "name": "python",
   "nbconvert_exporter": "python",
   "pygments_lexer": "ipython3",
   "version": "3.9.7"
  }
 },
 "nbformat": 4,
 "nbformat_minor": 5
}
